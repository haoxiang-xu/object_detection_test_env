{
 "cells": [
  {
   "cell_type": "code",
   "execution_count": 1,
   "id": "6f57cf6a",
   "metadata": {},
   "outputs": [
    {
     "name": "stdout",
     "output_type": "stream",
     "text": [
      "Capturing screen every 1 second. Press Ctrl+C to stop.\n",
      "Saved: screenshots/screenshot_2025-04-17_20-26-45.png\n",
      "Saved: screenshots/screenshot_2025-04-17_20-26-46.png\n",
      "Saved: screenshots/screenshot_2025-04-17_20-26-47.png\n",
      "Saved: screenshots/screenshot_2025-04-17_20-26-48.png\n",
      "Saved: screenshots/screenshot_2025-04-17_20-26-49.png\n",
      "Saved: screenshots/screenshot_2025-04-17_20-26-50.png\n",
      "Saved: screenshots/screenshot_2025-04-17_20-26-51.png\n",
      "\n",
      "Stopped.\n"
     ]
    }
   ],
   "source": [
    "import mss\n",
    "import time\n",
    "from datetime import datetime\n",
    "import os\n",
    "\n",
    "# Folder to save screenshots\n",
    "save_folder = \"screenshots\"\n",
    "os.makedirs(save_folder, exist_ok=True)\n",
    "\n",
    "with mss.mss() as sct:\n",
    "    monitor = sct.monitors[1]  # Primary monitor\n",
    "\n",
    "    try:\n",
    "        print(\"Capturing screen every 1 second. Press Ctrl+C to stop.\")\n",
    "        while True:\n",
    "            # Timestamped filename\n",
    "            timestamp = datetime.now().strftime(\"%Y-%m-%d_%H-%M-%S\")\n",
    "            filename = os.path.join(save_folder, f\"screenshot_{timestamp}.png\")\n",
    "\n",
    "            # Grab screen and save\n",
    "            sct_img = sct.grab(monitor)\n",
    "            mss.tools.to_png(sct_img.rgb, sct_img.size, output=filename)\n",
    "            print(f\"Saved: {filename}\")\n",
    "\n",
    "            time.sleep(1)\n",
    "\n",
    "    except KeyboardInterrupt:\n",
    "        print(\"\\nStopped.\")"
   ]
  }
 ],
 "metadata": {
  "kernelspec": {
   "display_name": "venv",
   "language": "python",
   "name": "python3"
  },
  "language_info": {
   "codemirror_mode": {
    "name": "ipython",
    "version": 3
   },
   "file_extension": ".py",
   "mimetype": "text/x-python",
   "name": "python",
   "nbconvert_exporter": "python",
   "pygments_lexer": "ipython3",
   "version": "3.11.7"
  }
 },
 "nbformat": 4,
 "nbformat_minor": 5
}
